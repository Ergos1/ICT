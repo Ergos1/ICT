{
 "cells": [
  {
   "cell_type": "markdown",
   "metadata": {},
   "source": [
    "By Yergeldi Zhanibek"
   ]
  },
  {
   "cell_type": "markdown",
   "metadata": {},
   "source": [
    "#1"
   ]
  },
  {
   "cell_type": "code",
   "execution_count": 7,
   "metadata": {},
   "outputs": [
    {
     "name": "stdout",
     "output_type": "stream",
     "text": [
      "Codeforces\n",
      ".c.d.f.r.c.s"
     ]
    }
   ],
   "source": [
    "s = input()\n",
    "is_v = ['A','O','Y','E','U','I','a','o','y','e','u','i']\n",
    "for i in s:\n",
    "    if(i not in is_v):\n",
    "        print('.'+i.lower(),end='')"
   ]
  },
  {
   "cell_type": "markdown",
   "metadata": {},
   "source": [
    "#2"
   ]
  },
  {
   "cell_type": "code",
   "execution_count": 15,
   "metadata": {},
   "outputs": [
    {
     "name": "stdout",
     "output_type": "stream",
     "text": [
      "12312+32+21312543643\n",
      "32+12312+21312543643\n"
     ]
    }
   ],
   "source": [
    "s = [int(i) for i in input().split('+')]\n",
    "s.sort()\n",
    "s = [str(i) for i in s]\n",
    "print('+'.join(s))"
   ]
  },
  {
   "cell_type": "markdown",
   "metadata": {},
   "source": [
    "#3"
   ]
  },
  {
   "cell_type": "code",
   "execution_count": 19,
   "metadata": {},
   "outputs": [
    {
     "name": "stdout",
     "output_type": "stream",
     "text": [
      "apple\n",
      "Apple\n"
     ]
    }
   ],
   "source": [
    "s = input()\n",
    "print(s[0].upper() + s[1:])"
   ]
  },
  {
   "cell_type": "markdown",
   "metadata": {},
   "source": [
    "#4"
   ]
  },
  {
   "cell_type": "code",
   "execution_count": 2,
   "metadata": {},
   "outputs": [
    {
     "name": "stdout",
     "output_type": "stream",
     "text": [
      "1000000001\n",
      "YES\n"
     ]
    }
   ],
   "source": [
    "s = input()\n",
    "o = 0\n",
    "z = 0\n",
    "f = False\n",
    "for i in s:\n",
    "    if(i == '0'):\n",
    "        z+=1\n",
    "        o=0\n",
    "    else:\n",
    "        o+=1\n",
    "        z=0\n",
    "    if(z == 7 or o == 7):\n",
    "        f = True\n",
    "        break\n",
    "print('YES') if(f) else print('NO')"
   ]
  },
  {
   "cell_type": "markdown",
   "metadata": {},
   "source": [
    "#5"
   ]
  },
  {
   "cell_type": "code",
   "execution_count": 6,
   "metadata": {},
   "outputs": [
    {
     "name": "stdout",
     "output_type": "stream",
     "text": [
      "xiaodao\n",
      "IGNORE HIM!\n"
     ]
    }
   ],
   "source": [
    "s = input()\n",
    "cnt = 0\n",
    "have = []\n",
    "for i in s:\n",
    "    if(i not in have):\n",
    "        cnt+=1\n",
    "        have.append(i)\n",
    "if(cnt%2==0): print('CHAT WITH HER!')\n",
    "else: print('IGNORE HIM!')"
   ]
  },
  {
   "cell_type": "markdown",
   "metadata": {},
   "source": [
    "#6"
   ]
  },
  {
   "cell_type": "code",
   "execution_count": 15,
   "metadata": {},
   "outputs": [
    {
     "name": "stdout",
     "output_type": "stream",
     "text": [
      "adsadasd\n",
      "adsadasd\n"
     ]
    }
   ],
   "source": [
    "s = input()\n",
    "l = u = 0\n",
    "error = False\n",
    "for i in s:\n",
    "    if(i >= 'a' and i <= 'z'):\n",
    "        l+=1\n",
    "    elif(i >= 'A' and i <= 'Z'):\n",
    "        u+=1\n",
    "    else:\n",
    "        error = True\n",
    "        break\n",
    "if(error): print('ERROR')\n",
    "else:\n",
    "    if(l >= u): print(s.lower())\n",
    "    else: print(s.upper())"
   ]
  },
  {
   "cell_type": "markdown",
   "metadata": {},
   "source": [
    "#7"
   ]
  },
  {
   "cell_type": "code",
   "execution_count": 22,
   "metadata": {},
   "outputs": [
    {
     "name": "stdout",
     "output_type": "stream",
     "text": [
      "TheQuickBrownFoxJumpsOverTheLazyDog\n",
      "YES\n"
     ]
    }
   ],
   "source": [
    "s = input()\n",
    "if(len(s) < 26): print('NO')\n",
    "else:\n",
    "    have = []\n",
    "    for i in s:\n",
    "        if(i.lower() not in have): have.append(i.lower())\n",
    "    if(len(have) == 26): print('YES')\n",
    "    else: print('NO')\n",
    "\n"
   ]
  },
  {
   "cell_type": "markdown",
   "metadata": {},
   "source": [
    "#8"
   ]
  },
  {
   "cell_type": "code",
   "execution_count": 26,
   "metadata": {},
   "outputs": [
    {
     "name": "stdout",
     "output_type": "stream",
     "text": [
      "aba\n",
      "aba\n",
      "YES\n"
     ]
    }
   ],
   "source": [
    "s = input()\n",
    "t = input()\n",
    "if(len(s) != len(t)): print('NO')\n",
    "else:\n",
    "    f = True\n",
    "    for i in range(len(s)):\n",
    "        if(s[i] != t[len(s) - i - 1]):\n",
    "            f = not f\n",
    "            break\n",
    "    if(f):print('YES')\n",
    "    else: print('NO')"
   ]
  },
  {
   "cell_type": "markdown",
   "metadata": {},
   "source": [
    "#9"
   ]
  },
  {
   "cell_type": "code",
   "execution_count": 29,
   "metadata": {},
   "outputs": [
    {
     "name": "stdout",
     "output_type": "stream",
     "text": [
      "DADADA\n",
      "Friendship\n"
     ]
    }
   ],
   "source": [
    "d,a = 0,0\n",
    "s = input()\n",
    "d = s.count('D') \n",
    "a = s.count('A')\n",
    "if(d > a): print('Danik')\n",
    "elif(d < a): print('Anton')\n",
    "else: print('Friendship')"
   ]
  },
  {
   "cell_type": "markdown",
   "metadata": {},
   "source": [
    "#10"
   ]
  },
  {
   "cell_type": "code",
   "execution_count": 30,
   "metadata": {},
   "outputs": [
    {
     "name": "stdout",
     "output_type": "stream",
     "text": [
      "cAps\n",
      "Caps\n"
     ]
    }
   ],
   "source": [
    "s = input().lower()\n",
    "print(s[0].upper() + s[1:])"
   ]
  },
  {
   "cell_type": "markdown",
   "metadata": {},
   "source": [
    "#11"
   ]
  },
  {
   "cell_type": "code",
   "execution_count": 37,
   "metadata": {},
   "outputs": [
    {
     "name": "stdout",
     "output_type": "stream",
     "text": [
      "4\n",
      "erzo\n",
      "0\n"
     ]
    }
   ],
   "source": [
    "n = int(input())\n",
    "s = input()\n",
    "m = {}\n",
    "m['z'] = 0\n",
    "m['e'] = 0\n",
    "m['r'] = 0\n",
    "m['o'] = 0\n",
    "m['n'] = 0\n",
    "for i in s:\n",
    "    if(i in m): m[i]+=1\n",
    "res = ''\n",
    "while(m['z'] and m['e'] and m['r'] and m['o']):\n",
    "    res+='0'\n",
    "    m['z'] -= 1\n",
    "    m['e'] -= 1\n",
    "    m['r'] -= 1\n",
    "    m['o'] -= 1\n",
    "while(m['o'] and m['n'] and m['e']):\n",
    "    res+='1'\n",
    "    m['o'] -=1\n",
    "    m['n'] -=1\n",
    "    m['e'] -=1\n",
    "print(' '.join(res))"
   ]
  },
  {
   "cell_type": "markdown",
   "metadata": {},
   "source": [
    "#12"
   ]
  },
  {
   "cell_type": "code",
   "execution_count": 42,
   "metadata": {},
   "outputs": [
    {
     "name": "stdout",
     "output_type": "stream",
     "text": [
      "6\n",
      "xxxiii\n",
      "1\n"
     ]
    }
   ],
   "source": [
    "n = int(input())\n",
    "s = input()\n",
    "res = cnt_x = 0\n",
    "for i in s:\n",
    "    if(i == 'x'): \n",
    "        cnt_x+=1\n",
    "        if(cnt_x >= 3): res+=1\n",
    "    else: cnt_x = 0\n",
    "print(res)"
   ]
  }
 ],
 "metadata": {
  "kernelspec": {
   "display_name": "Python 3",
   "language": "python",
   "name": "python3"
  },
  "language_info": {
   "codemirror_mode": {
    "name": "ipython",
    "version": 3
   },
   "file_extension": ".py",
   "mimetype": "text/x-python",
   "name": "python",
   "nbconvert_exporter": "python",
   "pygments_lexer": "ipython3",
   "version": "3.7.6"
  }
 },
 "nbformat": 4,
 "nbformat_minor": 4
}
