{
 "cells": [
  {
   "cell_type": "markdown",
   "metadata": {},
   "source": [
    "Lab1\n"
   ]
  },
  {
   "cell_type": "markdown",
   "metadata": {},
   "source": [
    "Ex1"
   ]
  },
  {
   "cell_type": "code",
   "execution_count": 1,
   "metadata": {},
   "outputs": [
    {
     "name": "stdout",
     "output_type": "stream",
     "text": [
      "Yergeldi\n",
      "Email:Zhanibekov_02@mail.ru\n"
     ]
    }
   ],
   "source": [
    "print(\"Yergeldi\\nEmail:Zhanibekov_02@mail.ru\" )"
   ]
  },
  {
   "cell_type": "markdown",
   "metadata": {},
   "source": [
    "Ex2"
   ]
  },
  {
   "cell_type": "code",
   "execution_count": 5,
   "metadata": {},
   "outputs": [
    {
     "name": "stdout",
     "output_type": "stream",
     "text": [
      "Enter ur name: Yeroma\n",
      "Hello, Yeroma\n"
     ]
    }
   ],
   "source": [
    "name = input(\"Enter ur name: \")\n",
    "print(\"Hello, \"+name)"
   ]
  },
  {
   "cell_type": "markdown",
   "metadata": {},
   "source": [
    "Ex3"
   ]
  },
  {
   "cell_type": "code",
   "execution_count": 3,
   "metadata": {},
   "outputs": [
    {
     "name": "stdout",
     "output_type": "stream",
     "text": [
      "Length of the room: 12\n",
      "Width of the room: 12\n",
      "Area is 144 meters\n"
     ]
    }
   ],
   "source": [
    "l = int(input(\"Length of the room: \"))\n",
    "w = int(input(\"Width of the room: \"))\n",
    "print(\"Area is \"+str(w*l)+\" meters\")"
   ]
  },
  {
   "cell_type": "markdown",
   "metadata": {},
   "source": [
    "Ex4"
   ]
  },
  {
   "cell_type": "code",
   "execution_count": 4,
   "metadata": {},
   "outputs": [
    {
     "name": "stdout",
     "output_type": "stream",
     "text": [
      "Length of the farm: 12\n",
      "Width of the farm: 12\n",
      "Farm is 0.0033 acres\n"
     ]
    }
   ],
   "source": [
    "l = int(input(\"Length of the farm: \"))\n",
    "w = int(input(\"Width of the farm: \"))\n",
    "print(\"Farm is {:.4f} acres\".format((l*w/43560)))"
   ]
  },
  {
   "cell_type": "markdown",
   "metadata": {},
   "source": [
    "Ex5"
   ]
  },
  {
   "cell_type": "code",
   "execution_count": 6,
   "metadata": {},
   "outputs": [
    {
     "name": "stdout",
     "output_type": "stream",
     "text": [
      "less or equals 1l :123\n",
      "more 1l :123\n",
      "Total:43.05\n"
     ]
    }
   ],
   "source": [
    "less = int(input(\"less or equals 1l :\"))\n",
    "more = int(input(\"more 1l :\"))\n",
    "print(\"Total:{:.2f}\".format(less*0.1 + more*0.25,1))"
   ]
  },
  {
   "cell_type": "markdown",
   "metadata": {},
   "source": [
    "Ex6"
   ]
  },
  {
   "cell_type": "code",
   "execution_count": 16,
   "metadata": {},
   "outputs": [
    {
     "name": "stdout",
     "output_type": "stream",
     "text": [
      "Price of foods: 100\n",
      "Total money: 128.0\n"
     ]
    }
   ],
   "source": [
    "money_f = float(input(\"Price of foods: \"))\n",
    "tip = money_f * 0.18\n",
    "tax = money_f * 0.1\n",
    "print(\"Total money:\",round(money_f+tip+tax,2))"
   ]
  },
  {
   "cell_type": "markdown",
   "metadata": {},
   "source": [
    "Ex7"
   ]
  },
  {
   "cell_type": "code",
   "execution_count": 18,
   "metadata": {},
   "outputs": [
    {
     "name": "stdout",
     "output_type": "stream",
     "text": [
      "Enter n: 10\n",
      "Sum from 1 to n:  55.0\n"
     ]
    }
   ],
   "source": [
    "n = int(input(\"Enter n: \"))\n",
    "print(\"Sum from 1 to n: \",(n+1)*n/2)"
   ]
  },
  {
   "cell_type": "markdown",
   "metadata": {},
   "source": [
    "Ex8"
   ]
  },
  {
   "cell_type": "code",
   "execution_count": 20,
   "metadata": {},
   "outputs": [
    {
     "name": "stdout",
     "output_type": "stream",
     "text": [
      "1 2\n",
      "Total: 299 grams\n"
     ]
    }
   ],
   "source": [
    "w,g = map(int, input().split())\n",
    "print(\"Total:\",w*75+g*112,\"grams\")"
   ]
  },
  {
   "cell_type": "markdown",
   "metadata": {},
   "source": [
    "Ex9"
   ]
  },
  {
   "cell_type": "code",
   "execution_count": 7,
   "metadata": {},
   "outputs": [
    {
     "name": "stdout",
     "output_type": "stream",
     "text": [
      "100\n",
      "1 104.00\n",
      "2 108.16\n",
      "3 112.49\n"
     ]
    }
   ],
   "source": [
    "b_s = int(input())\n",
    "i = 0.04\n",
    "for f in range(3):\n",
    "    b_s*=(1+i)\n",
    "    print(f+1, \"{:.2f}\".format(b_s))"
   ]
  },
  {
   "cell_type": "markdown",
   "metadata": {},
   "source": [
    "Ex10"
   ]
  },
  {
   "cell_type": "code",
   "execution_count": 27,
   "metadata": {},
   "outputs": [
    {
     "name": "stdout",
     "output_type": "stream",
     "text": [
      "12 12\n",
      "Sum: 24 \n",
      "Dif b - a: 0 \n",
      "Product: 144 \n",
      "Quotient: 1.0 \n",
      "Reminder: 0 \n",
      "log10 of a: 1.0791812460476249 \n",
      "Concetetion: 1212\n"
     ]
    }
   ],
   "source": [
    "import math\n",
    "a,b = map(int,input().split())\n",
    "print(\"Sum:\",a+b,\"\\nDif b - a:\",b-a,\"\\nProduct:\",a*b,\"\\nQuotient:\",a/b,\"\\nReminder:\",a%b,\"\\nlog10 of a:\",math.log10(a),\"\\nConcetetion:\",str(a)+str(b))"
   ]
  },
  {
   "cell_type": "markdown",
   "metadata": {},
   "source": [
    "Ex11"
   ]
  },
  {
   "cell_type": "code",
   "execution_count": 29,
   "metadata": {},
   "outputs": [
    {
     "name": "stdout",
     "output_type": "stream",
     "text": [
      "Enter MPG:100\n",
      "L/100km: 2.8278433809819763\n"
     ]
    }
   ],
   "source": [
    "OneMilPerKm = 1.609\n",
    "OneGalomPerLitr = 4.55\n",
    "i = float(input(\"Enter MPG:\"))\n",
    "print(\"L/100km:\",i*OneGalomPerLitr/(OneMilPerKm*100))"
   ]
  },
  {
   "cell_type": "markdown",
   "metadata": {},
   "source": [
    "Ex12"
   ]
  },
  {
   "cell_type": "code",
   "execution_count": 33,
   "metadata": {},
   "outputs": [
    {
     "name": "stdout",
     "output_type": "stream",
     "text": [
      "100 0 500 0\n",
      "distance: 17508.752627112786\n"
     ]
    }
   ],
   "source": [
    "t1,g1,t2,g2 = map(int, input().split())\n",
    "rad = 180/math.pi\n",
    "print(\"distance:\",6371*math.acos(math.sin(t1*rad)*math.sin(t2*rad)+math.cos(t1*rad)*math.cos(t2*rad)*math.cos((g1-g2)*rad)))"
   ]
  },
  {
   "cell_type": "markdown",
   "metadata": {},
   "source": [
    "Ex13"
   ]
  },
  {
   "cell_type": "code",
   "execution_count": 52,
   "metadata": {},
   "outputs": [
    {
     "name": "stdout",
     "output_type": "stream",
     "text": [
      "65\n",
      "25 25 10 5 "
     ]
    }
   ],
   "source": [
    "#1 5 10 25 100 200\n",
    "sd = [1,5,10,25,100,200]\n",
    "money = int(input())\n",
    "F = [0]\n",
    "INF = 1e9\n",
    "for i in range(1,money+1):\n",
    "    F.append(INF)\n",
    "    for j in sd:\n",
    "        if(j<=i and F[i-j]+1<F[i]): F[i] = F[i-j]+1\n",
    "if(F[money] == INF): print(\"It's imp\")\n",
    "else:\n",
    "    while(money):\n",
    "        for i in sd[::-1]:\n",
    "            if(money>=i and F[money-i]+1 == F[money]):\n",
    "                print(i,end=\" \")\n",
    "                money-=i\n",
    "                break\n"
   ]
  },
  {
   "cell_type": "markdown",
   "metadata": {},
   "source": [
    "Ex14"
   ]
  },
  {
   "cell_type": "code",
   "execution_count": 57,
   "metadata": {},
   "outputs": [
    {
     "name": "stdout",
     "output_type": "stream",
     "text": [
      "1 1\n",
      "cm= 33.02\n"
     ]
    }
   ],
   "source": [
    "f, i = map(int,input().split())\n",
    "print(\"cm=\",(f*12+i)*2.54)"
   ]
  },
  {
   "cell_type": "markdown",
   "metadata": {},
   "source": [
    "Ex15"
   ]
  },
  {
   "cell_type": "code",
   "execution_count": 59,
   "metadata": {},
   "outputs": [
    {
     "name": "stdout",
     "output_type": "stream",
     "text": [
      "12312\n",
      "inch: 147744 \n",
      "yards: 4104.0 \n",
      "miles: 2.331818181818182\n"
     ]
    }
   ],
   "source": [
    "f = int(input())\n",
    "print(\"inch:\",f*12,\"\\nyards:\",f/3,\"\\nmiles:\",f/5280)"
   ]
  },
  {
   "cell_type": "markdown",
   "metadata": {},
   "source": [
    "Ex16"
   ]
  },
  {
   "cell_type": "code",
   "execution_count": 61,
   "metadata": {},
   "outputs": [
    {
     "name": "stdout",
     "output_type": "stream",
     "text": [
      "radius: 1\n",
      "Area: 3.141592653589793 \n",
      "Volume: 4.1887902047863905\n"
     ]
    }
   ],
   "source": [
    "r = float(input(\"radius: \"))\n",
    "print(\"Area:\",math.pi*r*r,\"\\nVolume:\",4*math.pi*r*r*r/3)"
   ]
  },
  {
   "cell_type": "markdown",
   "metadata": {},
   "source": [
    "Ex17"
   ]
  },
  {
   "cell_type": "code",
   "execution_count": 62,
   "metadata": {},
   "outputs": [
    {
     "name": "stdout",
     "output_type": "stream",
     "text": [
      "mass and temp1 20\n",
      "q = 83.72 J\n",
      "Cost of boiling water: 0.20697444444444446\n"
     ]
    }
   ],
   "source": [
    "m,t = map(int,input(\"mass and temp\").split())\n",
    "c = 4.186\n",
    "q = m*c*t\n",
    "CentPerKw = 8.9\n",
    "print(\"q =\",q,\"J\\nCost of boiling water:\",q*CentPerKw/(60*60))"
   ]
  },
  {
   "cell_type": "markdown",
   "metadata": {},
   "source": [
    "Ex18"
   ]
  },
  {
   "cell_type": "code",
   "execution_count": 9,
   "metadata": {},
   "outputs": [
    {
     "name": "stdout",
     "output_type": "stream",
     "text": [
      "radius,height:121 2\n",
      "Volume:91992.1\n"
     ]
    }
   ],
   "source": [
    "import math\n",
    "r,h = map(float,input(\"radius,height:\").split())\n",
    "print(\"Volume:{:.1f}\".format(math.pi*r*r*h))"
   ]
  },
  {
   "cell_type": "markdown",
   "metadata": {},
   "source": [
    "Ex19"
   ]
  },
  {
   "cell_type": "code",
   "execution_count": 74,
   "metadata": {},
   "outputs": [
    {
     "name": "stdout",
     "output_type": "stream",
     "text": [
      "12\n",
      "vf = 15.34\n"
     ]
    }
   ],
   "source": [
    "g = 9.8\n",
    "h = float(input())\n",
    "print(\"vf =\",\"{:.2f}\".format(math.sqrt((2*9.8*h))))"
   ]
  },
  {
   "cell_type": "markdown",
   "metadata": {},
   "source": [
    "Ex20"
   ]
  },
  {
   "cell_type": "code",
   "execution_count": 76,
   "metadata": {},
   "outputs": [
    {
     "name": "stdout",
     "output_type": "stream",
     "text": [
      "Pressure,volume,temp20000000 12 20\n",
      "n= 1443.348568679336\n"
     ]
    }
   ],
   "source": [
    "R = 8.314\n",
    "P,V,T=map(int, input(\"Pressure,volume,temp\").split())\n",
    "print(\"n=\",P*(V/1000)/(R*T))"
   ]
  },
  {
   "cell_type": "markdown",
   "metadata": {},
   "source": [
    "Ex21"
   ]
  },
  {
   "cell_type": "code",
   "execution_count": 78,
   "metadata": {},
   "outputs": [
    {
     "name": "stdout",
     "output_type": "stream",
     "text": [
      "b,h:12 12\n",
      "Area: 72.0\n"
     ]
    }
   ],
   "source": [
    "b,h = map(int,input(\"b,h:\").split())\n",
    "print(\"Area:\",b*h/2)"
   ]
  },
  {
   "cell_type": "markdown",
   "metadata": {},
   "source": [
    "Ex22"
   ]
  },
  {
   "cell_type": "code",
   "execution_count": 11,
   "metadata": {},
   "outputs": [
    {
     "name": "stdout",
     "output_type": "stream",
     "text": [
      "3 4 5\n",
      "6.0\n"
     ]
    }
   ],
   "source": [
    "a,b,c = map(int,input().split())\n",
    "p = (a+b+c)/2\n",
    "print(math.sqrt(p*(p-a)*(p-b)*(p-c)))"
   ]
  },
  {
   "cell_type": "markdown",
   "metadata": {},
   "source": [
    "Ex23"
   ]
  },
  {
   "cell_type": "code",
   "execution_count": 84,
   "metadata": {},
   "outputs": [
    {
     "name": "stdout",
     "output_type": "stream",
     "text": [
      "s,n:1 2\n",
      "Area: 3.061616997868383e-17\n"
     ]
    }
   ],
   "source": [
    "s,n = map(int,input(\"s,n:\").split())\n",
    "print(\"Area:\",n*s*s/(4*math.tan(math.pi/n)))"
   ]
  },
  {
   "cell_type": "markdown",
   "metadata": {},
   "source": [
    "Ex24"
   ]
  },
  {
   "cell_type": "code",
   "execution_count": 87,
   "metadata": {},
   "outputs": [
    {
     "name": "stdout",
     "output_type": "stream",
     "text": [
      "1 2 3 4\n",
      "Total: 93784 sec\n"
     ]
    }
   ],
   "source": [
    "d,h,m,s = map(int,input().split())\n",
    "print(\"Total:\",d*60*60*24+h*60*60+m*60+s,\"sec\")"
   ]
  },
  {
   "cell_type": "markdown",
   "metadata": {},
   "source": [
    "Ex25"
   ]
  },
  {
   "cell_type": "code",
   "execution_count": 5,
   "metadata": {},
   "outputs": [
    {
     "name": "stdout",
     "output_type": "stream",
     "text": [
      "32452345234\n",
      "D:HH:MM:SS - 375605 : 20 : 20 : 34\n"
     ]
    }
   ],
   "source": [
    "s = int(input())\n",
    "print(\"D:HH:MM:SS -\",int(s/(60*60*24)),\":\",\"{:02}\".format(int((s%(60*60*24))/((60*60)))),\":\",\"{:02}\".format(int((s%((60*60*24)))%((60*60))/((60)))),\":\",\"{:02}\".format(int((((s%(60*60*24))%((60*60)))%((60)))/(1))))"
   ]
  },
  {
   "cell_type": "markdown",
   "metadata": {},
   "source": [
    "Ex26"
   ]
  },
  {
   "cell_type": "code",
   "execution_count": 99,
   "metadata": {},
   "outputs": [
    {
     "data": {
      "text/plain": [
       "'Mon Sep  7 23:08:47 2020'"
      ]
     },
     "execution_count": 99,
     "metadata": {},
     "output_type": "execute_result"
    }
   ],
   "source": [
    "import time\n",
    "print(time.asctime())"
   ]
  },
  {
   "cell_type": "markdown",
   "metadata": {},
   "source": [
    "Ex27"
   ]
  },
  {
   "cell_type": "code",
   "execution_count": 108,
   "metadata": {},
   "outputs": [
    {
     "name": "stdout",
     "output_type": "stream",
     "text": [
      "Weight, height:67 179\n",
      "BMI: 0.002091070815517618\n"
     ]
    }
   ],
   "source": [
    "w,h = map(int,input(\"Weight, height:\").split())\n",
    "print(\"BMI:\",w/(h*h))"
   ]
  },
  {
   "cell_type": "markdown",
   "metadata": {},
   "source": [
    "Ex28"
   ]
  },
  {
   "cell_type": "code",
   "execution_count": 106,
   "metadata": {},
   "outputs": [
    {
     "name": "stdout",
     "output_type": "stream",
     "text": [
      "Temp, Velocity:1 1\n",
      "T>=10, V >= 4.8 (deg Celsius, km/h)\n"
     ]
    }
   ],
   "source": [
    "T, V = map(float,input(\"Temp, Velocity:\").split())\n",
    "if(T>=10 and V >= 4.8):\n",
    "    print(\"WCI=\",13.2+0.6215*T-11.37*V**0.16+0.3965*T*V**0.16)\n",
    "else:\n",
    "    print(\"T>=10, V >= 4.8 (deg Celsius, km/h)\")"
   ]
  },
  {
   "cell_type": "markdown",
   "metadata": {},
   "source": [
    "Ex29"
   ]
  },
  {
   "cell_type": "code",
   "execution_count": 109,
   "metadata": {},
   "outputs": [
    {
     "name": "stdout",
     "output_type": "stream",
     "text": [
      "27\n",
      "F: 33.8 K: 278\n"
     ]
    }
   ],
   "source": [
    "C = int(input())\n",
    "print(\"F:\",(9/5)+32,\"K:\",c+273)"
   ]
  },
  {
   "cell_type": "markdown",
   "metadata": {},
   "source": [
    "Ex30\n"
   ]
  },
  {
   "cell_type": "code",
   "execution_count": 110,
   "metadata": {},
   "outputs": [
    {
     "name": "stdout",
     "output_type": "stream",
     "text": [
      "Pressure: 12321312\n",
      "PSI: 1787055.294334521 \n",
      "mmHg: 92417418.22829473 \n",
      "Atm: 121601.89489267209\n"
     ]
    }
   ],
   "source": [
    "P = int(input(\"Pressure: \"))\n",
    "print(\"PSI:\",P/(6.894757),\"\\nmmHg:\",P/(133.3224/1000),\"\\nAtm:\",P/(101.325))"
   ]
  },
  {
   "cell_type": "markdown",
   "metadata": {},
   "source": [
    "Ex31"
   ]
  },
  {
   "cell_type": "code",
   "execution_count": 117,
   "metadata": {},
   "outputs": [
    {
     "name": "stdout",
     "output_type": "stream",
     "text": [
      "3141\n",
      "9\n"
     ]
    }
   ],
   "source": [
    "s = input()\n",
    "n = len(s)\n",
    "res = 0\n",
    "for i in range(n):\n",
    "    res+=int(s[i])\n",
    "print(res)"
   ]
  },
  {
   "cell_type": "markdown",
   "metadata": {},
   "source": [
    "Ex32"
   ]
  },
  {
   "cell_type": "code",
   "execution_count": 118,
   "metadata": {},
   "outputs": [
    {
     "name": "stdout",
     "output_type": "stream",
     "text": [
      "73 12 45\n",
      "12 45 73\n"
     ]
    }
   ],
   "source": [
    "a,b,c = map(int,input().split())\n",
    "print(min(a,b,c),max(min(a,b),min(b,c),min(a,c)),max(a,b,c))"
   ]
  },
  {
   "cell_type": "markdown",
   "metadata": {},
   "source": [
    "Ex33"
   ]
  },
  {
   "cell_type": "code",
   "execution_count": 4,
   "metadata": {},
   "outputs": [
    {
     "name": "stdout",
     "output_type": "stream",
     "text": [
      "112\n",
      "Just price: 390.88 \n",
      "discount is 60%: 234.53 \n",
      "then total price:  156.35\n"
     ]
    }
   ],
   "source": [
    "n = int(input())\n",
    "print(\"Just price: {:.2f}\".format(n*3.49),\"\\ndiscount is 60%: {:.2f}\".format(n*3.49*0.6), \"\\nthen total price: \",\"{:.2f}\".format(n*0.4*3.49))"
   ]
  },
  {
   "cell_type": "code",
   "execution_count": null,
   "metadata": {},
   "outputs": [],
   "source": []
  }
 ],
 "metadata": {
  "kernelspec": {
   "display_name": "Python 3",
   "language": "python",
   "name": "python3"
  },
  "language_info": {
   "codemirror_mode": {
    "name": "ipython",
    "version": 3
   },
   "file_extension": ".py",
   "mimetype": "text/x-python",
   "name": "python",
   "nbconvert_exporter": "python",
   "pygments_lexer": "ipython3",
   "version": "3.7.6"
  }
 },
 "nbformat": 4,
 "nbformat_minor": 4
}
